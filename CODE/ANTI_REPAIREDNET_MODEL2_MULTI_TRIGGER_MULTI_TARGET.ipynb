{
  "nbformat": 4,
  "nbformat_minor": 0,
  "metadata": {
    "colab": {
      "name": "ANTI-REPAIREDNET_MODEL2_MULTI_TRIGGER_MULTI_TARGET.ipynb",
      "provenance": [],
      "collapsed_sections": []
    },
    "kernelspec": {
      "name": "python3",
      "display_name": "Python 3"
    },
    "language_info": {
      "name": "python"
    },
    "accelerator": "GPU"
  },
  "cells": [
    {
      "cell_type": "markdown",
      "source": [
        "## Import Libraries"
      ],
      "metadata": {
        "id": "LwHsuRIzDq58"
      }
    },
    {
      "cell_type": "code",
      "execution_count": 1,
      "metadata": {
        "id": "MZsevTnP1Oo7"
      },
      "outputs": [],
      "source": [
        "import numpy as np\n",
        "import matplotlib \n",
        "import matplotlib.pyplot as plt\n",
        "import seaborn as sns\n",
        "import pandas as pd\n",
        "from PIL import Image as im\n",
        "from matplotlib import pyplot as plt\n",
        "import os\n",
        "import tensorflow as tf\n",
        "from tensorflow import keras\n",
        "import h5py\n",
        "from keras.models import load_model\n",
        "from keras import models\n",
        "from keras.models import Model"
      ]
    },
    {
      "cell_type": "markdown",
      "source": [
        "## Clone CSAW-HackML-2020 Respository "
      ],
      "metadata": {
        "id": "I7ho0IEpDvOL"
      }
    },
    {
      "cell_type": "code",
      "source": [
        "# Clone Respository\n",
        "! git clone https://github.com/csaw-hackml/CSAW-HackML-2020.git"
      ],
      "metadata": {
        "colab": {
          "base_uri": "https://localhost:8080/"
        },
        "id": "sIemol6y-8VY",
        "outputId": "10efba91-f1e7-467a-c2c8-ccb45ba768d6"
      },
      "execution_count": 2,
      "outputs": [
        {
          "output_type": "stream",
          "name": "stdout",
          "text": [
            "Cloning into 'CSAW-HackML-2020'...\n",
            "remote: Enumerating objects: 220, done.\u001b[K\n",
            "remote: Counting objects: 100% (56/56), done.\u001b[K\n",
            "remote: Compressing objects: 100% (52/52), done.\u001b[K\n",
            "remote: Total 220 (delta 27), reused 2 (delta 0), pack-reused 164\u001b[K\n",
            "Receiving objects: 100% (220/220), 85.94 MiB | 18.53 MiB/s, done.\n",
            "Resolving deltas: 100% (82/82), done.\n"
          ]
        }
      ]
    },
    {
      "cell_type": "markdown",
      "source": [
        "## Load BadNet from Cloned Repository"
      ],
      "metadata": {
        "id": "0wYQ9wMAD4dy"
      }
    },
    {
      "cell_type": "code",
      "source": [
        "# Load BadNet\n",
        "model_path_bad = '/content/CSAW-HackML-2020/models/multi_trigger_multi_target_bd_net.h5'\n",
        "BadNet = load_model(model_path_bad)\n",
        "\n",
        "loss_fn = tf.keras.losses.SparseCategoricalCrossentropy(from_logits=True)\n",
        "BadNet.compile(optimizer='adam', loss=loss_fn, metrics=['accuracy'])"
      ],
      "metadata": {
        "id": "CXAj7LoMN4yi"
      },
      "execution_count": 3,
      "outputs": []
    },
    {
      "cell_type": "markdown",
      "source": [
        "## Load Data from Data Repository (In This Case My GoogleDrive)"
      ],
      "metadata": {
        "id": "CtpxykTYD_tF"
      }
    },
    {
      "cell_type": "code",
      "source": [
        "# Load test dataset\n",
        "# Clean Validation Data\n",
        "data_path = '/content/drive/MyDrive/valid.h5'\n",
        "\n",
        "file_name = h5py.File(data_path, 'r')\n",
        "#file_name.keys()\n",
        "data_value = np.array(file_name['data'])\n",
        "#data_value.shape\n",
        "data_value = data_value.transpose((0,2,3,1))\n",
        "data_label = np.array(file_name['label'])\n",
        "#data_label.shape\n",
        "clean_valid_data = data_value\n",
        "clean_valid_label = data_label\n",
        "\n",
        "# Clean Test Data\n",
        "data_path = '/content/drive/MyDrive/test.h5'\n",
        "\n",
        "file_name = h5py.File(data_path, 'r')\n",
        "#file_name.keys()\n",
        "data_value = np.array(file_name['data'])\n",
        "#data_value.shape\n",
        "data_value = data_value.transpose((0,2,3,1))\n",
        "data_label = np.array(file_name['label'])\n",
        "#data_label.shape\n",
        "clean_test_data = data_value\n",
        "clean_test_label = data_label\n",
        "\n",
        "# Poisioned Test Data Sunglasses\n",
        "data_path = '/content/drive/MyDrive/sunglasses_poisoned_data.h5'\n",
        "\n",
        "file_name = h5py.File(data_path, 'r')\n",
        "#file_name.keys()\n",
        "data_value = np.array(file_name['data'])\n",
        "#data_value.shape\n",
        "data_value = data_value.transpose((0,2,3,1))\n",
        "data_label = np.array(file_name['label'])\n",
        "#data_label.shape\n",
        "poisioned_test_data_sunglasses = data_value\n",
        "poisioned_test_label_sunglasses = data_label\n",
        "\n",
        "# Poisioned Test Data Lipstick\n",
        "data_path = '/content/drive/MyDrive/lipstick_poisoned_data.h5'\n",
        "\n",
        "file_name = h5py.File(data_path, 'r')\n",
        "#file_name.keys()\n",
        "data_value = np.array(file_name['data'])\n",
        "#data_value.shape\n",
        "data_value = data_value.transpose((0,2,3,1))\n",
        "data_label = np.array(file_name['label'])\n",
        "#data_label.shape\n",
        "poisioned_test_data_lipstick = data_value\n",
        "poisioned_test_label_lipstick = data_label\n",
        "\n",
        "# Poisioned Test Data Eyebrows\n",
        "data_path = '/content/drive/MyDrive/eyebrows_poisoned_data.h5'\n",
        "\n",
        "file_name = h5py.File(data_path, 'r')\n",
        "#file_name.keys()\n",
        "data_value = np.array(file_name['data'])\n",
        "#data_value.shape\n",
        "data_value = data_value.transpose((0,2,3,1))\n",
        "data_label = np.array(file_name['label'])\n",
        "#data_label.shape\n",
        "poisioned_test_data_eyebrows = data_value\n",
        "poisioned_test_label_eyebrows = data_label"
      ],
      "metadata": {
        "id": "iJ8aA8rUAtzO"
      },
      "execution_count": 4,
      "outputs": []
    },
    {
      "cell_type": "markdown",
      "source": [
        "## Create ActivationNet for Activations  of Conv2 Layer\n",
        "## Evaluate Performance of Multi-Trigger Multi-Target BadNet"
      ],
      "metadata": {
        "id": "uClebpCWEnix"
      }
    },
    {
      "cell_type": "code",
      "source": [
        "# Create ActivationNet\n",
        "ActivationNet = load_model(model_path_bad)\n",
        "ActivationNet.compile(optimizer='adam', loss=loss_fn, metrics=['accuracy'])\n",
        "\n",
        "# Evalauating accuracy of pruned model ### Just a format for now\n",
        "[clean_validation_loss, clean_validation_accuracy] = BadNet.evaluate(clean_valid_data, clean_valid_label, verbose =  1)\n",
        "\n",
        "print(clean_validation_accuracy*100)"
      ],
      "metadata": {
        "colab": {
          "base_uri": "https://localhost:8080/"
        },
        "id": "CUN0l3QMZmrp",
        "outputId": "6f2ad4cb-3c39-4fb7-bb88-2d64fcd72bc9"
      },
      "execution_count": 5,
      "outputs": [
        {
          "output_type": "stream",
          "name": "stderr",
          "text": [
            "/usr/local/lib/python3.7/dist-packages/tensorflow/python/util/dispatch.py:1096: UserWarning: \"`sparse_categorical_crossentropy` received `from_logits=True`, but the `output` argument was produced by a sigmoid or softmax activation and thus does not represent logits. Was this intended?\"\n",
            "  return dispatch_target(*args, **kwargs)\n"
          ]
        },
        {
          "output_type": "stream",
          "name": "stdout",
          "text": [
            "361/361 [==============================] - 11s 7ms/step - loss: 922.4589 - accuracy: 0.4321\n",
            "43.21468770503998\n"
          ]
        }
      ]
    },
    {
      "cell_type": "markdown",
      "source": [
        "## Function for Plotting Activation Map of Conv2 Layer"
      ],
      "metadata": {
        "id": "1x-dRSikjl49"
      }
    },
    {
      "cell_type": "code",
      "source": [
        "def visualizeActivations(model, dataset, pathToSave, suptitleText, clbLowLimit = None, clbUpLimit = None):\n",
        "    tmpModel = Model(inputs=model.inputs, outputs=model.layers[3].output)\n",
        "    feature_maps = tmpModel(dataset)\n",
        "    averageActivations = np.mean(feature_maps,0)\n",
        "    col = 8# to arrange them in 8 columns and 5 rows\n",
        "    fig, axs = plt.subplots(5, 8, figsize=(12, 8), sharex=False, sharey=False)\n",
        "    for i in range(averageActivations.shape[2]):\n",
        "        axs[i // col, i % col].set_title('ch = '+str(i),fontsize=10, y=0.95)\n",
        "        if clbLowLimit is not None and clbUpLimit is not None:\n",
        "            im = axs[i // col, i % col ].imshow(averageActivations[:,:,i],vmin=clbLowLimit, vmax=clbUpLimit)\n",
        "        else:\n",
        "            im = axs[i // col, i % col ].imshow(averageActivations[:,:,i],vmin=np.min(averageActivations), vmax=np.max(averageActivations))\n",
        "        axs[i // col, i % col ].invert_yaxis()\n",
        "        axs[i // col, i % col ].set_axis_off()\n",
        "        fig.subplots_adjust(right=0.9)\n",
        "    ax_x_start  = 0.92\n",
        "    ax_x_width  = 0.02\n",
        "    ax_y_start  = 0.13\n",
        "    ax_y_height = 0.75\n",
        "    cbar_ax = fig.add_axes([ax_x_start, ax_y_start, ax_x_width, ax_y_height])\n",
        "    clb = fig.colorbar(im,cax=cbar_ax)\n",
        "    if clbLowLimit is not None and clbUpLimit is not None:\n",
        "        clb.mappable.set_clim(clbLowLimit, clbUpLimit)\n",
        "    else:\n",
        "        clb.mappable.set_clim(np.min(averageActivations), np.max(averageActivations))\n",
        "    clb.ax.set_title('', fontsize=14)  # title on top of colorbar\n",
        "    plt.suptitle(suptitleText, fontsize=12, y=0.97);\n",
        "    plt.savefig(pathToSave+'.pdf')\n",
        "    plt.savefig(pathToSave+'.png', dpi=400)\n",
        "    return averageActivations"
      ],
      "metadata": {
        "id": "_ScV2URbjmWf"
      },
      "execution_count": 6,
      "outputs": []
    },
    {
      "cell_type": "markdown",
      "source": [
        "## Activation Map of Conv2 Layer Before Pruning"
      ],
      "metadata": {
        "id": "cACH7WLSkG94"
      }
    },
    {
      "cell_type": "code",
      "source": [
        "activation_model = models.Model(inputs = ActivationNet.input, outputs = ActivationNet.layers[3].output)\n",
        "pruning_layer_activations = activation_model.predict(clean_valid_data) \n",
        "\n",
        "number_images = pruning_layer_activations.shape[0]\n",
        "number_rows = pruning_layer_activations.shape[1]\n",
        "number_columns = pruning_layer_activations.shape[2]\n",
        "number_channels = pruning_layer_activations.shape[3]\n",
        "\n",
        "total_activation_per_channel = np.zeros([number_rows, number_columns, number_channels])\n",
        "for i in range(number_channels):\n",
        "  for j in range(number_images):\n",
        "    total_activation_per_channel[:,:,i] += pruning_layer_activations[j,:,:,i]\n",
        "average_activation_per_channel = total_activation_per_channel/number_images\n",
        "\n",
        "average_activation_value = []\n",
        "for i in range(number_channels):\n",
        "  average_activation_value.append(np.sum(average_activation_per_channel[:,:,i])/(number_rows*number_columns))\n",
        "\n",
        "weights, biases = ActivationNet.layers[3].get_weights()"
      ],
      "metadata": {
        "id": "1fOdMJ6GkHf9"
      },
      "execution_count": 7,
      "outputs": []
    },
    {
      "cell_type": "code",
      "source": [
        "clbLowLimit = np.min(average_activation_per_channel)\n",
        "clbUpLimit = np.max(average_activation_per_channel)\n",
        "pathToSave = \"/content/drive/MyDrive/Images/Unpruned_Model2\"\n",
        "visualizeActivations(BadNet, clean_valid_data, pathToSave, \"Visualizing second pooling layer activations for each channel, averaged across all images from \\nthe clean validation data set (before pruning any channel)\", clbLowLimit = clbLowLimit, clbUpLimit = clbUpLimit);"
      ],
      "metadata": {
        "id": "tnDzNyNiWc2s",
        "colab": {
          "base_uri": "https://localhost:8080/",
          "height": 521
        },
        "outputId": "45e4c9f5-2840-4739-ab19-6f364c1d39f2"
      },
      "execution_count": 8,
      "outputs": [
        {
          "output_type": "display_data",
          "data": {
            "image/png": "[encoded data removed]",
            "text/plain": [
              "<Figure size 864x576 with 41 Axes>"
            ]
          },
          "metadata": {
            "needs_background": "light"
          }
        }
      ]
    },
    {
      "cell_type": "markdown",
      "source": [
        "## Prune Channels from Conv2 Activation Layers"
      ],
      "metadata": {
        "id": "PSGHC72eGASP"
      }
    },
    {
      "cell_type": "code",
      "source": [
        "channel_total = []\n",
        "for i in range(number_channels):\n",
        "  ch = np.sum(average_activation_per_channel[:,:,i])\n",
        "  channel_total.append(ch)\n",
        "\n",
        "channel_number = list(range(0, number_channels))\n",
        "plt.figure(figsize=(10, 5))\n",
        "plt.xlabel(\"Channel Number\", fontsize = 14)\n",
        "plt.ylabel(\"Total Channel Activation\", fontsize = 14)\n",
        "plt.scatter(channel_number, channel_total)\n",
        "plt.plot(channel_number, (channel_total[10])*np.ones(len(channel_total)), 'g--', linestyle='dashed')\n",
        "plt.grid()\n",
        "pathToSave = \"/content/drive/MyDrive/Images/Activation_Model2\"\n",
        "plt.savefig(pathToSave+'.pdf')\n",
        "plt.savefig(pathToSave+'.png', dpi=400)"
      ],
      "metadata": {
        "colab": {
          "base_uri": "https://localhost:8080/",
          "height": 337
        },
        "id": "zVYoIiNoE5FF",
        "outputId": "f75e8727-421b-4519-e7b4-2c673ebce960"
      },
      "execution_count": 9,
      "outputs": [
        {
          "output_type": "display_data",
          "data": {
            "image/png": "[encoded data removed]",
            "text/plain": [
              "<Figure size 720x360 with 1 Axes>"
            ]
          },
          "metadata": {
            "needs_background": "light"
          }
        }
      ]
    },
    {
      "cell_type": "code",
      "source": [
        "Anti_RepairedNet = load_model(model_path_bad)\n",
        "Anti_RepairedNet.compile(optimizer='adam', loss=loss_fn, metrics=['accuracy'])\n",
        "\n",
        "new_weights = weights.copy()\n",
        "new_biases = biases.copy()\n",
        "for i in range(number_channels):\n",
        "  if i == 0 or i == 1 or i == 5 or i == 8 or i == 9 or i == 10 or i == 12 or i == 17 or i == 22 or i == 23 or i == 24 or i == 25 or i == 30 or i == 31 or i == 32 or i == 33 or i == 34 or i == 36 or i == 38 or i == 39:\n",
        "    new_weights[:,:,:,i] = 0\n",
        "    new_biases[i] = 0\n",
        "  else:\n",
        "    new_weights[:,:,:,i] = new_weights[:,:,:,i]\n",
        "    new_biases[i] = new_biases[i]\n",
        "\n",
        "Anti_RepairedNet.layers[3].set_weights([new_weights, new_biases])\n",
        "[a, x] = Anti_RepairedNet.evaluate(clean_valid_data, clean_valid_label, verbose = 1)\n",
        "\n",
        "print('Pruned clean test accuracy is:', x*100)"
      ],
      "metadata": {
        "id": "9j0FMI3Cqoj1",
        "colab": {
          "base_uri": "https://localhost:8080/"
        },
        "outputId": "9b311fc6-b9bf-485b-9d78-24304ac0095a"
      },
      "execution_count": 10,
      "outputs": [
        {
          "output_type": "stream",
          "name": "stderr",
          "text": [
            "/usr/local/lib/python3.7/dist-packages/tensorflow/python/util/dispatch.py:1096: UserWarning: \"`sparse_categorical_crossentropy` received `from_logits=True`, but the `output` argument was produced by a sigmoid or softmax activation and thus does not represent logits. Was this intended?\"\n",
            "  return dispatch_target(*args, **kwargs)\n"
          ]
        },
        {
          "output_type": "stream",
          "name": "stdout",
          "text": [
            "361/361 [==============================] - 2s 6ms/step - loss: 779.8447 - accuracy: 0.0303\n",
            "Pruned clean test accuracy is: 3.031090274453163\n"
          ]
        }
      ]
    },
    {
      "cell_type": "markdown",
      "source": [
        "## Activation Map of Conv2 Layer After Pruning"
      ],
      "metadata": {
        "id": "aCD1UKcoGOkm"
      }
    },
    {
      "cell_type": "code",
      "source": [
        "clbLowLimit = np.min(average_activation_per_channel)\n",
        "clbUpLimit = np.max(average_activation_per_channel)\n",
        "pathToSave = \"/content/drive/MyDrive/Images/Pruned_Model2\"\n",
        "visualizeActivations(Anti_RepairedNet, clean_valid_data, pathToSave, \"Visualizing second pooling layer activations for each channel, averaged across all images from \\nthe clean validation data set (after pruning specific channels)\", clbLowLimit = clbLowLimit, clbUpLimit = clbUpLimit);"
      ],
      "metadata": {
        "id": "3yka40Hx6NZc",
        "colab": {
          "base_uri": "https://localhost:8080/",
          "height": 521
        },
        "outputId": "d50ce298-15d6-4ef9-d788-ba52b1939002"
      },
      "execution_count": 11,
      "outputs": [
        {
          "output_type": "display_data",
          "data": {
            "image/png": "[encoded data removed]",
            "text/plain": [
              "<Figure size 864x576 with 41 Axes>"
            ]
          },
          "metadata": {
            "needs_background": "light"
          }
        }
      ]
    },
    {
      "cell_type": "markdown",
      "source": [
        "## Quick Performance Check With Clean Test Data for Both the Anti-RepairedNet and BadNet\n"
      ],
      "metadata": {
        "id": "0z_ZEkntIIJG"
      }
    },
    {
      "cell_type": "markdown",
      "source": [
        "We can leverage on the result above by creating a GoodNet whose correct output label is obtained from the BadNet when there is a mismatch between the predictions obtained from the Anti-RepairedNet and BadNet, and vice-versa."
      ],
      "metadata": {
        "id": "jrJBrW1KOZtd"
      }
    },
    {
      "cell_type": "code",
      "source": [
        "i = 20\n",
        "np.argmax(Anti_RepairedNet.predict(clean_test_data[:i]), axis = 1), np.argmax(BadNet.predict(clean_test_data[:i]), axis = 1)"
      ],
      "metadata": {
        "id": "yWbRvYV5x9Bf",
        "colab": {
          "base_uri": "https://localhost:8080/"
        },
        "outputId": "479867cc-7d0b-4f47-9e60-e4c49af52b20"
      },
      "execution_count": 12,
      "outputs": [
        {
          "output_type": "execute_result",
          "data": {
            "text/plain": [
              "(array([   1,    1,    1, 1045,    1,   83,  427,    1,    1, 1123,    1,\n",
              "        1123,    5,    1, 1098,  401,    5,    1, 1144, 1045]),\n",
              " array([ 950,  992, 1138,  363, 1054,  788,  788,  967,  241,  200,  548,\n",
              "         626, 1035, 1123,  537,  166,  491,  688,  128,  393]))"
            ]
          },
          "metadata": {},
          "execution_count": 12
        }
      ]
    },
    {
      "cell_type": "markdown",
      "source": [
        "Since we obtained different labels, this tells us that the input data is clean. Therefore, the correct output label will be the label of the BadNet"
      ],
      "metadata": {
        "id": "0NaHfP0EIb0b"
      }
    },
    {
      "cell_type": "markdown",
      "source": [
        "## Quick Performance Check With Poisioned Test Data for Both the RepairedNet and BadNet\n"
      ],
      "metadata": {
        "id": "huapcMRfJBI4"
      }
    },
    {
      "cell_type": "code",
      "source": [
        "np.argmax(Anti_RepairedNet.predict(poisioned_test_data_sunglasses[:i]), axis = 1), np.argmax(BadNet.predict(poisioned_test_data_sunglasses[:i]), axis = 1)"
      ],
      "metadata": {
        "id": "qCcddDl2duTV",
        "colab": {
          "base_uri": "https://localhost:8080/"
        },
        "outputId": "a85a034f-ff5f-4593-a750-e65df03e77b2"
      },
      "execution_count": 13,
      "outputs": [
        {
          "output_type": "execute_result",
          "data": {
            "text/plain": [
              "(array([8, 8, 8, 8, 8, 8, 8, 8, 8, 8, 8, 8, 8, 8, 8, 8, 8, 8, 8, 8]),\n",
              " array([8, 8, 8, 8, 8, 8, 8, 8, 8, 8, 8, 8, 8, 8, 8, 8, 8, 8, 8, 8]))"
            ]
          },
          "metadata": {},
          "execution_count": 13
        }
      ]
    },
    {
      "cell_type": "code",
      "source": [
        "np.argmax(Anti_RepairedNet.predict(poisioned_test_data_lipstick[:i]), axis = 1), np.argmax(BadNet.predict(poisioned_test_data_lipstick[:i]), axis = 1)"
      ],
      "metadata": {
        "colab": {
          "base_uri": "https://localhost:8080/"
        },
        "id": "Jt7lqQ6PR1wO",
        "outputId": "b07480f0-71e4-4156-8292-98bfb66a7c03"
      },
      "execution_count": 14,
      "outputs": [
        {
          "output_type": "execute_result",
          "data": {
            "text/plain": [
              "(array([  1,   1,   1,   1,   1,   1,   1, 820,   1,   1,   1,   1,   1,\n",
              "          1,   1,   1,   1,   1,   1,   1]),\n",
              " array([1, 1, 1, 1, 1, 1, 1, 5, 1, 1, 1, 1, 1, 1, 1, 1, 1, 1, 1, 1]))"
            ]
          },
          "metadata": {},
          "execution_count": 14
        }
      ]
    },
    {
      "cell_type": "code",
      "source": [
        "np.argmax(Anti_RepairedNet.predict(poisioned_test_data_eyebrows[:i]), axis = 1), np.argmax(BadNet.predict(poisioned_test_data_eyebrows[:i]), axis = 1)"
      ],
      "metadata": {
        "colab": {
          "base_uri": "https://localhost:8080/"
        },
        "id": "5o1ER5gCR1zy",
        "outputId": "f44a208e-9d65-4901-99ce-15d832569f9e"
      },
      "execution_count": 15,
      "outputs": [
        {
          "output_type": "execute_result",
          "data": {
            "text/plain": [
              "(array([  5,   5,   5,   5,   5,   5,   5, 820,   5,   5,   5,   5,   5,\n",
              "          5,   5,   5,   5,   5,   5,   5]),\n",
              " array([  5, 414,   5,   5,   5,   5,   5,   5,   5,   5,   5,   5,   5,\n",
              "          5,   5,   5,   5,   5,   5,   5]))"
            ]
          },
          "metadata": {},
          "execution_count": 15
        }
      ]
    },
    {
      "cell_type": "markdown",
      "source": [
        "Since we obtained the same labels, this tells us that the input data is poisioned and the correct output label will be N + 1 (i.e 1283)"
      ],
      "metadata": {
        "id": "mIDo7N17IwVZ"
      }
    },
    {
      "cell_type": "markdown",
      "source": [
        "## Evaluate Performance of Multi-Trigger Multi-Target BadNet on Test Data"
      ],
      "metadata": {
        "id": "710wlzJuxXfm"
      }
    },
    {
      "cell_type": "code",
      "source": [
        "[clean_test_loss, clean_test_accuracy] = BadNet.evaluate(clean_test_data, clean_test_label, verbose = 1)\n",
        "[attack_test_loss_sunglasses, attack_success_rate_sunglasses] = BadNet.evaluate(poisioned_test_data_sunglasses, poisioned_test_label_sunglasses, verbose = 1)\n",
        "[attack_test_loss_lipstick, attack_success_rate_lipstick] = BadNet.evaluate(poisioned_test_data_lipstick, poisioned_test_label_lipstick, verbose = 1)\n",
        "[attack_test_loss_eyebrows, attack_success_rate_eyebrows] = BadNet.evaluate(poisioned_test_data_eyebrows, poisioned_test_label_eyebrows, verbose = 1)\n",
        "\n",
        "print(clean_test_accuracy, attack_success_rate_sunglasses, attack_success_rate_lipstick, attack_success_rate_eyebrows)"
      ],
      "metadata": {
        "colab": {
          "base_uri": "https://localhost:8080/"
        },
        "id": "N3JNZvPTxW17",
        "outputId": "5d3d92e4-4092-4b0d-d791-a2f6838cbd96"
      },
      "execution_count": 16,
      "outputs": [
        {
          "output_type": "stream",
          "name": "stdout",
          "text": [
            "  9/401 [..............................] - ETA: 2s - loss: 1051.0239 - accuracy: 0.4167  "
          ]
        },
        {
          "output_type": "stream",
          "name": "stderr",
          "text": [
            "/usr/local/lib/python3.7/dist-packages/tensorflow/python/util/dispatch.py:1096: UserWarning: \"`sparse_categorical_crossentropy` received `from_logits=True`, but the `output` argument was produced by a sigmoid or softmax activation and thus does not represent logits. Was this intended?\"\n",
            "  return dispatch_target(*args, **kwargs)\n"
          ]
        },
        {
          "output_type": "stream",
          "name": "stdout",
          "text": [
            "401/401 [==============================] - 3s 6ms/step - loss: 922.3245 - accuracy: 0.4320\n",
            "321/321 [==============================] - 2s 6ms/step - loss: 0.0000e+00 - accuracy: 1.0000\n",
            "321/321 [==============================] - 2s 7ms/step - loss: 122.1214 - accuracy: 0.9199\n",
            "321/321 [==============================] - 2s 6ms/step - loss: 193.1952 - accuracy: 0.8818\n",
            "0.43195635080337524 1.0 0.9199142456054688 0.8818199634552002\n"
          ]
        }
      ]
    },
    {
      "cell_type": "markdown",
      "source": [
        "## Compute Clean Test Accuracy and Attack Success Rate Using Anti-Repaired Net and BadNet"
      ],
      "metadata": {
        "id": "TXaiOrtJR0xE"
      }
    },
    {
      "cell_type": "code",
      "source": [
        "# Model predictions for clean input \n",
        "Anti_RepairedNet_clean_predict = np.argmax(Anti_RepairedNet.predict(clean_test_data), axis = 1)\n",
        "BadNet_clean_predict = np.argmax(BadNet.predict(clean_test_data), axis = 1)"
      ],
      "metadata": {
        "id": "x_zOgscZRztd"
      },
      "execution_count": 17,
      "outputs": []
    },
    {
      "cell_type": "code",
      "source": [
        "# Goodnet clean classification accuracy performance is based on not equal condition \n",
        "model_predict = []\n",
        "clean_accuracy_count = 0\n",
        "for i in range(len(clean_test_label)):\n",
        "  if Anti_RepairedNet_clean_predict[i] != BadNet_clean_predict[i]:\n",
        "    model_predict.append(BadNet_clean_predict[i])\n",
        "  else:\n",
        "    model_predict.append(-1)      # A number different from existing labels\n",
        "  if model_predict[i] == clean_test_label[i]:\n",
        "    clean_accuracy_count += 1\n",
        "Clean_test_accuracy = (clean_accuracy_count/len(clean_test_label))*100\n",
        "print(clean_accuracy_count, Clean_test_accuracy)"
      ],
      "metadata": {
        "colab": {
          "base_uri": "https://localhost:8080/"
        },
        "id": "n-aH6-u-vOxY",
        "outputId": "38077100-2a6b-4be3-aacd-cc106203be64"
      },
      "execution_count": 18,
      "outputs": [
        {
          "output_type": "stream",
          "name": "stdout",
          "text": [
            "5403 42.11223694466095\n"
          ]
        }
      ]
    },
    {
      "cell_type": "code",
      "source": [
        "# Model predictions for poisioned sunglasses input\n",
        "Anti_RepairedNet_poisioned_sunglasses_predict = np.argmax(Anti_RepairedNet.predict(poisioned_test_data_sunglasses), axis = 1)\n",
        "BadNet_poisioned_sunglasses_predict = np.argmax(BadNet.predict(poisioned_test_data_sunglasses), axis = 1)"
      ],
      "metadata": {
        "id": "onAFrXQ5vOz9"
      },
      "execution_count": 19,
      "outputs": []
    },
    {
      "cell_type": "code",
      "source": [
        "# GoodNet attack success rate performance is based on equal condition \n",
        "model_predict = []\n",
        "attack_success_count_sunglasses = 0\n",
        "for i in range(len(poisioned_test_label_sunglasses)):\n",
        "  if Anti_RepairedNet_poisioned_sunglasses_predict[i] == BadNet_poisioned_sunglasses_predict[i]:\n",
        "    model_predict.append(BadNet_poisioned_sunglasses_predict[i])\n",
        "  else:\n",
        "    model_predict.append(-1)      # A number different from existing labels\n",
        "  if model_predict[i] != poisioned_test_label_sunglasses[i]:\n",
        "    attack_success_count_sunglasses += 1\n",
        "Attack_success_rate_sunglasses = (attack_success_count_sunglasses/len(poisioned_test_label_sunglasses))*100\n",
        "print(attack_success_count_sunglasses, Attack_success_rate_sunglasses)"
      ],
      "metadata": {
        "colab": {
          "base_uri": "https://localhost:8080/"
        },
        "id": "O9261iSVvSP6",
        "outputId": "e6de2f06-2e42-4573-aeca-9b0f0b9754d4"
      },
      "execution_count": 20,
      "outputs": [
        {
          "output_type": "stream",
          "name": "stdout",
          "text": [
            "0 0.0\n"
          ]
        }
      ]
    },
    {
      "cell_type": "code",
      "source": [
        "# Model predictions for poisioned lipstick input\n",
        "Anti_RepairedNet_poisioned_lipstick_predict = np.argmax(Anti_RepairedNet.predict(poisioned_test_data_lipstick), axis = 1)\n",
        "BadNet_poisioned_lipstick_predict = np.argmax(BadNet.predict(poisioned_test_data_lipstick), axis = 1)"
      ],
      "metadata": {
        "id": "RZuKmLp8vSS3"
      },
      "execution_count": 21,
      "outputs": []
    },
    {
      "cell_type": "code",
      "source": [
        "# GoodNet attack success rate performance is based on equal condition \n",
        "model_predict = []\n",
        "attack_success_count_lipstick = 0\n",
        "for i in range(len(poisioned_test_label_lipstick)):\n",
        "  if Anti_RepairedNet_poisioned_lipstick_predict[i] == BadNet_poisioned_lipstick_predict[i]:\n",
        "    model_predict.append(BadNet_poisioned_lipstick_predict[i])\n",
        "  else:\n",
        "    model_predict.append(-1)      # A number different from existing labels\n",
        "  if model_predict[i] != poisioned_test_label_lipstick[i]:\n",
        "    attack_success_count_lipstick += 1\n",
        "Attack_success_rate_lipstick = (attack_success_count_lipstick/len(poisioned_test_label_lipstick))*100\n",
        "print(attack_success_count_lipstick, Attack_success_rate_lipstick)"
      ],
      "metadata": {
        "colab": {
          "base_uri": "https://localhost:8080/"
        },
        "id": "aaWOhenBvWOs",
        "outputId": "6594b06b-1db7-4643-d292-e127dc9bb478"
      },
      "execution_count": 22,
      "outputs": [
        {
          "output_type": "stream",
          "name": "stdout",
          "text": [
            "909 8.856196414653157\n"
          ]
        }
      ]
    },
    {
      "cell_type": "code",
      "source": [
        "# Model predictions for poisioned eyebrows input\n",
        "Anti_RepairedNet_poisioned_eyebrows_predict = np.argmax(Anti_RepairedNet.predict(poisioned_test_data_eyebrows), axis = 1)\n",
        "BadNet_poisioned_eyebrows_predict = np.argmax(BadNet.predict(poisioned_test_data_eyebrows), axis = 1)"
      ],
      "metadata": {
        "id": "tjekHrg9vSV-"
      },
      "execution_count": 23,
      "outputs": []
    },
    {
      "cell_type": "code",
      "source": [
        "# GoodNet attack success rate performance is based on equal condition \n",
        "model_predict = []\n",
        "attack_success_count_eyebrows = 0\n",
        "for i in range(len(poisioned_test_label_eyebrows)):\n",
        "  if Anti_RepairedNet_poisioned_eyebrows_predict[i] == BadNet_poisioned_eyebrows_predict[i]:\n",
        "    model_predict.append(BadNet_poisioned_eyebrows_predict[i])\n",
        "  else:\n",
        "    model_predict.append(-1)      # A number different from existing labels\n",
        "  if model_predict[i] != poisioned_test_label_eyebrows[i]:\n",
        "    attack_success_count_eyebrows += 1\n",
        "Attack_success_rate_eyebrows = (attack_success_count_eyebrows/len(poisioned_test_label_eyebrows))*100\n",
        "print(attack_success_count_eyebrows, Attack_success_rate_eyebrows)"
      ],
      "metadata": {
        "colab": {
          "base_uri": "https://localhost:8080/"
        },
        "id": "1fMr9YNTvXGB",
        "outputId": "ad4030f6-286e-495a-9d55-c21121dd45f3"
      },
      "execution_count": 24,
      "outputs": [
        {
          "output_type": "stream",
          "name": "stdout",
          "text": [
            "1291 12.577942322681215\n"
          ]
        }
      ]
    },
    {
      "cell_type": "code",
      "source": [
        "print('Clean test accuracy is:', Clean_test_accuracy)\n",
        "print('Attack success rate is:', Attack_success_rate_sunglasses)\n",
        "print('Attack success rate is:', Attack_success_rate_lipstick)\n",
        "print('Attack success rate is:', Attack_success_rate_eyebrows)"
      ],
      "metadata": {
        "colab": {
          "base_uri": "https://localhost:8080/"
        },
        "id": "-jzJ9-UPVmLQ",
        "outputId": "6d58f818-ef66-43be-b542-e858c28d0215"
      },
      "execution_count": 25,
      "outputs": [
        {
          "output_type": "stream",
          "name": "stdout",
          "text": [
            "Clean test accuracy is: 42.11223694466095\n",
            "Attack success rate is: 0.0\n",
            "Attack success rate is: 8.856196414653157\n",
            "Attack success rate is: 12.577942322681215\n"
          ]
        }
      ]
    },
    {
      "cell_type": "markdown",
      "source": [
        "## Saving the Repaired Net"
      ],
      "metadata": {
        "id": "GCLGQwcDDmUd"
      }
    },
    {
      "cell_type": "code",
      "source": [
        "Anti_RepairedNet.save('Anti_RepairedNet_Multi_Trigger_Multi_Target_Model.h5')\n",
        "BadNet.save('BadNet_Multi_Trigger_Multi_Target_Model.h5')"
      ],
      "metadata": {
        "id": "641tVTPcDlRK",
        "colab": {
          "base_uri": "https://localhost:8080/"
        },
        "outputId": "99c90939-51e5-480e-d40f-c132435c8db0"
      },
      "execution_count": 26,
      "outputs": [
        {
          "output_type": "stream",
          "name": "stderr",
          "text": [
            "/usr/local/lib/python3.7/dist-packages/keras/engine/functional.py:1410: CustomMaskWarning: Custom mask layers require a config and must override get_config. When loading, the custom mask layer must be passed to the custom_objects argument.\n",
            "  layer_config = serialize_layer_fn(layer)\n"
          ]
        }
      ]
    }
  ]
}