{
  "nbformat": 4,
  "nbformat_minor": 0,
  "metadata": {
    "colab": {
      "name": "ANTI-REPAIREDNET_MODEL3_ANONYMOUS1.ipynb",
      "provenance": [],
      "collapsed_sections": []
    },
    "kernelspec": {
      "name": "python3",
      "display_name": "Python 3"
    },
    "language_info": {
      "name": "python"
    },
    "accelerator": "GPU"
  },
  "cells": [
    {
      "cell_type": "markdown",
      "source": [
        "## Import Libraries"
      ],
      "metadata": {
        "id": "LwHsuRIzDq58"
      }
    },
    {
      "cell_type": "code",
      "execution_count": 1,
      "metadata": {
        "id": "MZsevTnP1Oo7"
      },
      "outputs": [],
      "source": [
        "import numpy as np\n",
        "import matplotlib \n",
        "import matplotlib.pyplot as plt\n",
        "import seaborn as sns\n",
        "import pandas as pd\n",
        "from PIL import Image as im\n",
        "from matplotlib import pyplot as plt\n",
        "import os\n",
        "import tensorflow as tf\n",
        "from tensorflow import keras\n",
        "import h5py\n",
        "from keras.models import load_model\n",
        "from keras import models\n",
        "from keras.models import Model"
      ]
    },
    {
      "cell_type": "markdown",
      "source": [
        "## Clone CSAW-HackML-2020 Respository "
      ],
      "metadata": {
        "id": "I7ho0IEpDvOL"
      }
    },
    {
      "cell_type": "code",
      "source": [
        "# Clone Respository\n",
        "! git clone https://github.com/csaw-hackml/CSAW-HackML-2020.git"
      ],
      "metadata": {
        "colab": {
          "base_uri": "https://localhost:8080/"
        },
        "id": "sIemol6y-8VY",
        "outputId": "f0ef8f7e-50c9-49a2-ae0f-688b271f874e"
      },
      "execution_count": 2,
      "outputs": [
        {
          "output_type": "stream",
          "name": "stdout",
          "text": [
            "Cloning into 'CSAW-HackML-2020'...\n",
            "remote: Enumerating objects: 220, done.\u001b[K\n",
            "remote: Counting objects: 100% (56/56), done.\u001b[K\n",
            "remote: Compressing objects: 100% (52/52), done.\u001b[K\n",
            "remote: Total 220 (delta 27), reused 2 (delta 0), pack-reused 164\u001b[K\n",
            "Receiving objects: 100% (220/220), 85.94 MiB | 18.88 MiB/s, done.\n",
            "Resolving deltas: 100% (82/82), done.\n"
          ]
        }
      ]
    },
    {
      "cell_type": "markdown",
      "source": [
        "## Load BadNet from Cloned Repository"
      ],
      "metadata": {
        "id": "0wYQ9wMAD4dy"
      }
    },
    {
      "cell_type": "code",
      "source": [
        "# Load BadNet\n",
        "model_path_bad = '/content/CSAW-HackML-2020/models/anonymous_1_bd_net.h5'\n",
        "BadNet = load_model(model_path_bad)\n",
        "\n",
        "loss_fn = tf.keras.losses.SparseCategoricalCrossentropy(from_logits=True)\n",
        "BadNet.compile(optimizer='adam', loss=loss_fn, metrics=['accuracy'])"
      ],
      "metadata": {
        "id": "CXAj7LoMN4yi"
      },
      "execution_count": 3,
      "outputs": []
    },
    {
      "cell_type": "markdown",
      "source": [
        "## Load Data from Data Repository (In This Case My GoogleDrive)"
      ],
      "metadata": {
        "id": "CtpxykTYD_tF"
      }
    },
    {
      "cell_type": "code",
      "source": [
        "# Load test dataset\n",
        "# Clean Validation Data\n",
        "data_path = '/content/drive/MyDrive/valid.h5'\n",
        "\n",
        "file_name = h5py.File(data_path, 'r')\n",
        "#file_name.keys()\n",
        "data_value = np.array(file_name['data'])\n",
        "#data_value.shape\n",
        "data_value = data_value.transpose((0,2,3,1))\n",
        "data_label = np.array(file_name['label'])\n",
        "#data_label.shape\n",
        "clean_valid_data = data_value\n",
        "clean_valid_label = data_label\n",
        "\n",
        "# Clean Test Data\n",
        "data_path = '/content/drive/MyDrive/test.h5'\n",
        "\n",
        "file_name = h5py.File(data_path, 'r')\n",
        "#file_name.keys()\n",
        "data_value = np.array(file_name['data'])\n",
        "#data_value.shape\n",
        "data_value = data_value.transpose((0,2,3,1))\n",
        "data_label = np.array(file_name['label'])\n",
        "#data_label.shape\n",
        "clean_test_data = data_value\n",
        "clean_test_label = data_label\n",
        "\n",
        "# Poisioned Test Data\n",
        "data_path = '/content/drive/MyDrive/anonymous_1_poisoned_data.h5'\n",
        "\n",
        "file_name = h5py.File(data_path, 'r')\n",
        "#file_name.keys()\n",
        "data_value = np.array(file_name['data'])\n",
        "#data_value.shape\n",
        "data_value = data_value.transpose((0,2,3,1))\n",
        "data_label = np.array(file_name['label'])\n",
        "#data_label.shape\n",
        "poisioned_test_data = data_value\n",
        "poisioned_test_label = data_label"
      ],
      "metadata": {
        "id": "iJ8aA8rUAtzO"
      },
      "execution_count": 4,
      "outputs": []
    },
    {
      "cell_type": "markdown",
      "source": [
        "## Create ActivationNet for Activations  of Conv2 Layer\n",
        "## Evaluate Performance of Anonymous1 BadNet"
      ],
      "metadata": {
        "id": "uClebpCWEnix"
      }
    },
    {
      "cell_type": "code",
      "source": [
        "# Create ActivationNet\n",
        "ActivationNet = load_model(model_path_bad)\n",
        "ActivationNet.compile(optimizer='adam', loss=loss_fn, metrics=['accuracy'])\n",
        "\n",
        "# Evalauating accuracy of pruned model ### Just a format for now\n",
        "[clean_validation_loss, clean_validation_accuracy] = BadNet.evaluate(clean_valid_data, clean_valid_label, verbose = 1)\n",
        "\n",
        "print(clean_validation_accuracy*100)"
      ],
      "metadata": {
        "colab": {
          "base_uri": "https://localhost:8080/"
        },
        "id": "CUN0l3QMZmrp",
        "outputId": "71de9a3e-0469-4ba2-a0de-452fe1eb968e"
      },
      "execution_count": 5,
      "outputs": [
        {
          "output_type": "stream",
          "name": "stderr",
          "text": [
            "/usr/local/lib/python3.7/dist-packages/tensorflow/python/util/dispatch.py:1096: UserWarning: \"`sparse_categorical_crossentropy` received `from_logits=True`, but the `output` argument was produced by a sigmoid or softmax activation and thus does not represent logits. Was this intended?\"\n",
            "  return dispatch_target(*args, **kwargs)\n"
          ]
        },
        {
          "output_type": "stream",
          "name": "stdout",
          "text": [
            "361/361 [==============================] - 10s 7ms/step - loss: 791.0599 - accuracy: 0.5616\n",
            "56.16177320480347\n"
          ]
        }
      ]
    },
    {
      "cell_type": "markdown",
      "source": [
        "## Function for Plotting Activation Map of Conv2 Layer"
      ],
      "metadata": {
        "id": "eiMTfCtybvSX"
      }
    },
    {
      "cell_type": "code",
      "source": [
        "def visualizeActivations(model, dataset, pathToSave, suptitleText, clbLowLimit = None, clbUpLimit = None):\n",
        "    tmpModel = Model(inputs=model.inputs, outputs=model.layers[3].output)\n",
        "    feature_maps = tmpModel(dataset)\n",
        "    averageActivations = np.mean(feature_maps,0)\n",
        "    col = 8# to arrange them in 8 columns and 5 rows\n",
        "    fig, axs = plt.subplots(5, 8, figsize=(12, 8), sharex=False, sharey=False)\n",
        "    for i in range(averageActivations.shape[2]):\n",
        "        axs[i // col, i % col].set_title('ch = '+str(i),fontsize=10, y=0.95)\n",
        "        if clbLowLimit is not None and clbUpLimit is not None:\n",
        "            im = axs[i // col, i % col ].imshow(averageActivations[:,:,i],vmin=clbLowLimit, vmax=clbUpLimit)\n",
        "        else:\n",
        "            im = axs[i // col, i % col ].imshow(averageActivations[:,:,i],vmin=np.min(averageActivations), vmax=np.max(averageActivations))\n",
        "        axs[i // col, i % col ].invert_yaxis()\n",
        "        axs[i // col, i % col ].set_axis_off()\n",
        "        fig.subplots_adjust(right=0.9)\n",
        "    ax_x_start  = 0.92\n",
        "    ax_x_width  = 0.02\n",
        "    ax_y_start  = 0.13\n",
        "    ax_y_height = 0.75\n",
        "    cbar_ax = fig.add_axes([ax_x_start, ax_y_start, ax_x_width, ax_y_height])\n",
        "    clb = fig.colorbar(im,cax=cbar_ax)\n",
        "    if clbLowLimit is not None and clbUpLimit is not None:\n",
        "        clb.mappable.set_clim(clbLowLimit, clbUpLimit)\n",
        "    else:\n",
        "        clb.mappable.set_clim(np.min(averageActivations), np.max(averageActivations))\n",
        "    clb.ax.set_title('', fontsize=14)  # title on top of colorbar\n",
        "    plt.suptitle(suptitleText, fontsize=12, y=0.97);\n",
        "    plt.savefig(pathToSave+'.pdf')\n",
        "    plt.savefig(pathToSave+'.png', dpi=400)\n",
        "    return averageActivations"
      ],
      "metadata": {
        "id": "T8W_sMS_bxCv"
      },
      "execution_count": 6,
      "outputs": []
    },
    {
      "cell_type": "markdown",
      "source": [
        "## Activation Map of Conv2 Layer Before Pruning"
      ],
      "metadata": {
        "id": "aCD1UKcoGOkm"
      }
    },
    {
      "cell_type": "code",
      "source": [
        "activation_model = models.Model(inputs = ActivationNet.input, outputs = ActivationNet.layers[3].output)\n",
        "pruning_layer_activations = activation_model.predict(clean_valid_data) \n",
        "\n",
        "number_images = pruning_layer_activations.shape[0]\n",
        "number_rows = pruning_layer_activations.shape[1]\n",
        "number_columns = pruning_layer_activations.shape[2]\n",
        "number_channels = pruning_layer_activations.shape[3]\n",
        "\n",
        "total_activation_per_channel = np.zeros([number_rows, number_columns, number_channels])\n",
        "for i in range(number_channels):\n",
        "  for j in range(number_images):\n",
        "    total_activation_per_channel[:,:,i] += pruning_layer_activations[j,:,:,i]\n",
        "average_activation_per_channel = total_activation_per_channel/number_images\n",
        "\n",
        "average_activation_value = []\n",
        "for i in range(number_channels):\n",
        "  average_activation_value.append(np.sum(average_activation_per_channel[:,:,i])/(number_rows*number_columns))\n",
        "\n",
        "weights, biases = ActivationNet.layers[3].get_weights()"
      ],
      "metadata": {
        "id": "3yka40Hx6NZc"
      },
      "execution_count": 7,
      "outputs": []
    },
    {
      "cell_type": "code",
      "source": [
        "clbLowLimit = np.min(average_activation_per_channel)\n",
        "clbUpLimit = np.max(average_activation_per_channel)\n",
        "pathToSave = \"/content/drive/MyDrive/Images/Unpruned_Model3\"\n",
        "visualizeActivations(BadNet, clean_valid_data, pathToSave, \"Visualizing second pooling layer activations for each channel, averaged across all images from \\nthe clean validation data set (before pruning any channel)\", clbLowLimit = clbLowLimit, clbUpLimit = clbUpLimit);"
      ],
      "metadata": {
        "colab": {
          "base_uri": "https://localhost:8080/",
          "height": 521
        },
        "id": "Erqx2rS-6Nc0",
        "outputId": "253fbeb2-26ce-4a9a-e06c-26e3b51ba5ae"
      },
      "execution_count": 8,
      "outputs": [
        {
          "output_type": "display_data",
          "data": {
            "image/png": "[encoded data removed]",
            "text/plain": [
              "<Figure size 864x576 with 41 Axes>"
            ]
          },
          "metadata": {
            "needs_background": "light"
          }
        }
      ]
    },
    {
      "cell_type": "markdown",
      "source": [
        "## Prune Channels from Conv2 Activation Layers"
      ],
      "metadata": {
        "id": "vCATjnpOeZ3V"
      }
    },
    {
      "cell_type": "code",
      "source": [
        "channel_total = []\n",
        "for i in range(number_channels):\n",
        "  ch = np.sum(average_activation_per_channel[:,:,i])\n",
        "  channel_total.append(ch)\n",
        "\n",
        "channel_number = list(range(0, number_channels))\n",
        "plt.figure(figsize=(10, 5))\n",
        "plt.xlabel(\"Channel Number\", fontsize = 14)\n",
        "plt.ylabel(\"Total Channel Activation\", fontsize = 14)\n",
        "plt.scatter(channel_number, channel_total)\n",
        "plt.plot(channel_number, (channel_total[26])*np.ones(len(channel_total)), 'g--', linestyle='dashed')\n",
        "plt.grid()\n",
        "pathToSave = \"/content/drive/MyDrive/Images/Activation_Model3\"\n",
        "plt.savefig(pathToSave+'.pdf')\n",
        "plt.savefig(pathToSave+'.png', dpi=400)"
      ],
      "metadata": {
        "colab": {
          "base_uri": "https://localhost:8080/",
          "height": 337
        },
        "id": "Ktlhq2ysOD5W",
        "outputId": "4f586bec-da50-43e0-a69a-7b9c4a273b7f"
      },
      "execution_count": 9,
      "outputs": [
        {
          "output_type": "display_data",
          "data": {
            "image/png": "[encoded data removed]",
            "text/plain": [
              "<Figure size 720x360 with 1 Axes>"
            ]
          },
          "metadata": {
            "needs_background": "light"
          }
        }
      ]
    },
    {
      "cell_type": "code",
      "source": [
        "Anti_RepairedNet = load_model(model_path_bad)\n",
        "Anti_RepairedNet.compile(optimizer='adam', loss=loss_fn, metrics=['accuracy'])\n",
        "\n",
        "new_weights = weights.copy()\n",
        "new_biases = biases.copy()\n",
        "for i in range(number_channels):\n",
        "  if i == 1 or i == 8 or i == 9 or i == 14 or i == 15 or i == 17 or i == 19 or i == 21 or i == 23 or i == 24 or i == 26 or i == 27 or i == 30 or i == 31 or i == 35 or i == 36 or i == 38 or i == 39:\n",
        "    new_weights[:,:,:,i] = new_weights[:,:,:,i]\n",
        "    new_biases[i] = new_biases[i]\n",
        "  else:\n",
        "    new_weights[:,:,:,i] = 0\n",
        "    new_biases[i] = 0\n",
        "\n",
        "Anti_RepairedNet.layers[3].set_weights([new_weights, new_biases])\n",
        "[a, x] = Anti_RepairedNet.evaluate(clean_valid_data, clean_valid_label, verbose = 1)\n",
        "\n",
        "print('Pruned clean test accuracy is:', x*100)"
      ],
      "metadata": {
        "colab": {
          "base_uri": "https://localhost:8080/"
        },
        "id": "Cblf-5rnw_Fx",
        "outputId": "b54d252d-4fd4-483d-96e3-8bbf56d1fb92"
      },
      "execution_count": 10,
      "outputs": [
        {
          "output_type": "stream",
          "name": "stderr",
          "text": [
            "/usr/local/lib/python3.7/dist-packages/tensorflow/python/util/dispatch.py:1096: UserWarning: \"`sparse_categorical_crossentropy` received `from_logits=True`, but the `output` argument was produced by a sigmoid or softmax activation and thus does not represent logits. Was this intended?\"\n",
            "  return dispatch_target(*args, **kwargs)\n"
          ]
        },
        {
          "output_type": "stream",
          "name": "stdout",
          "text": [
            "361/361 [==============================] - 2s 5ms/step - loss: 956.0831 - accuracy: 0.0045\n",
            "Pruned clean test accuracy is: 0.4503334406763315\n"
          ]
        }
      ]
    },
    {
      "cell_type": "markdown",
      "source": [
        "## Activation Map of Conv2 Layer After Pruning"
      ],
      "metadata": {
        "id": "RKA-J32Mh7yE"
      }
    },
    {
      "cell_type": "code",
      "source": [
        "clbLowLimit = np.min(average_activation_per_channel)\n",
        "clbUpLimit = np.max(average_activation_per_channel)\n",
        "pathToSave = \"/content/drive/MyDrive/Images/Pruned_Model3\"\n",
        "visualizeActivations(Anti_RepairedNet, clean_valid_data, pathToSave, \"Visualizing second pooling layer activations for each channel, averaged across all images from \\nthe clean validation data set (after pruning specific channels)\", clbLowLimit = clbLowLimit, clbUpLimit = clbUpLimit);"
      ],
      "metadata": {
        "colab": {
          "base_uri": "https://localhost:8080/",
          "height": 521
        },
        "id": "ajhuWJMYh5sn",
        "outputId": "5b7d1006-e70b-4678-eb61-ba647d6781b0"
      },
      "execution_count": 11,
      "outputs": [
        {
          "output_type": "display_data",
          "data": {
            "image/png": "[encoded data removed]",
            "text/plain": [
              "<Figure size 864x576 with 41 Axes>"
            ]
          },
          "metadata": {
            "needs_background": "light"
          }
        }
      ]
    },
    {
      "cell_type": "markdown",
      "source": [
        "## Quick Performance Check With Clean Test Data for Both the Anti-RepairedNet and BadNet\n"
      ],
      "metadata": {
        "id": "0z_ZEkntIIJG"
      }
    },
    {
      "cell_type": "markdown",
      "source": [
        "We can leverage on the result above by creating a GoodNet whose correct output label is obtained from the BadNet when there is a mismatch between the predictions obtained from the Anti-RepairedNet and BadNet, and vice-versa."
      ],
      "metadata": {
        "id": "4uFtv7jEI9A5"
      }
    },
    {
      "cell_type": "code",
      "source": [
        "i = 20\n",
        "np.argmax(Anti_RepairedNet.predict(clean_test_data[:i]), axis = 1), np.argmax(BadNet.predict(clean_test_data[:i]), axis = 1)"
      ],
      "metadata": {
        "id": "yWbRvYV5x9Bf",
        "colab": {
          "base_uri": "https://localhost:8080/"
        },
        "outputId": "d0c41b12-4184-4916-cc8f-f88bea8d5693"
      },
      "execution_count": 12,
      "outputs": [
        {
          "output_type": "execute_result",
          "data": {
            "text/plain": [
              "(array([   0,  392,    0, 1216,    0, 1025,    0,    0,  200,    0,  562,\n",
              "           0,  649,    0,    0,    0,    0,    0, 1216,    0]),\n",
              " array([ 950,  992,  764,  688, 1274,  788,  953, 1084,  241,  200,    0,\n",
              "        1157,    0,   86,  537,  166,  757, 1086,    0,  393]))"
            ]
          },
          "metadata": {},
          "execution_count": 12
        }
      ]
    },
    {
      "cell_type": "markdown",
      "source": [
        "Since we obtained different labels, this tells us that the input data is clean. Therefore, the correct output label will be the label of the BadNet"
      ],
      "metadata": {
        "id": "0NaHfP0EIb0b"
      }
    },
    {
      "cell_type": "markdown",
      "source": [
        "## Quick Performance Check With Poisioned Test Data for Both the RepairedNet and BadNet\n"
      ],
      "metadata": {
        "id": "huapcMRfJBI4"
      }
    },
    {
      "cell_type": "code",
      "source": [
        "np.argmax(Anti_RepairedNet.predict(poisioned_test_data[:i]), axis = 1), np.argmax(BadNet.predict(poisioned_test_data[:i]), axis = 1)"
      ],
      "metadata": {
        "id": "qCcddDl2duTV",
        "colab": {
          "base_uri": "https://localhost:8080/"
        },
        "outputId": "4d756099-d077-4642-a105-0f2587298075"
      },
      "execution_count": 13,
      "outputs": [
        {
          "output_type": "execute_result",
          "data": {
            "text/plain": [
              "(array([0, 0, 0, 0, 0, 0, 0, 0, 0, 0, 0, 0, 0, 0, 0, 0, 0, 0, 0, 0]),\n",
              " array([  0,   0,   0,   0,   0,   0,   0, 398,   0,   0,   0,   0,   0,\n",
              "          0,   0,   0,   0,   0,   0,   0]))"
            ]
          },
          "metadata": {},
          "execution_count": 13
        }
      ]
    },
    {
      "cell_type": "markdown",
      "source": [
        "Since we obtained the same labels, this tells us that the input data is poisioned and the correct output label will be N + 1 (i.e 1283)"
      ],
      "metadata": {
        "id": "mIDo7N17IwVZ"
      }
    },
    {
      "cell_type": "markdown",
      "source": [
        "## Evaluate Performance of Anonymous1 BadNet on Test Data"
      ],
      "metadata": {
        "id": "fmXL_mRFxmQ1"
      }
    },
    {
      "cell_type": "code",
      "source": [
        "[clean_test_loss, clean_test_accuracy] = BadNet.evaluate(clean_test_data, clean_test_label, verbose = 1)\n",
        "[attack_test_loss, attack_success_rate] = BadNet.evaluate(poisioned_test_data, poisioned_test_label, verbose = 1)\n",
        "\n",
        "print(clean_test_accuracy*100, attack_success_rate*100)"
      ],
      "metadata": {
        "colab": {
          "base_uri": "https://localhost:8080/"
        },
        "id": "o0NVFTjyxpjo",
        "outputId": "ec90d26e-2943-4964-e48d-128e671461a3"
      },
      "execution_count": 14,
      "outputs": [
        {
          "output_type": "stream",
          "name": "stdout",
          "text": [
            " 10/401 [..............................] - ETA: 2s - loss: 867.6092 - accuracy: 0.5688  "
          ]
        },
        {
          "output_type": "stream",
          "name": "stderr",
          "text": [
            "/usr/local/lib/python3.7/dist-packages/tensorflow/python/util/dispatch.py:1096: UserWarning: \"`sparse_categorical_crossentropy` received `from_logits=True`, but the `output` argument was produced by a sigmoid or softmax activation and thus does not represent logits. Was this intended?\"\n",
            "  return dispatch_target(*args, **kwargs)\n"
          ]
        },
        {
          "output_type": "stream",
          "name": "stdout",
          "text": [
            "401/401 [==============================] - 3s 6ms/step - loss: 807.5095 - accuracy: 0.5623\n",
            "321/321 [==============================] - 2s 6ms/step - loss: 136.6641 - accuracy: 0.9148\n",
            "56.22758865356445 91.48480296134949\n"
          ]
        }
      ]
    },
    {
      "cell_type": "markdown",
      "source": [
        "## Compute Clean Test Accuracy and Attack Success Rate Using Anti-Repaired Net and BadNet"
      ],
      "metadata": {
        "id": "THXGLgCUxHjk"
      }
    },
    {
      "cell_type": "code",
      "source": [
        "# Model predictions for clean input \n",
        "Anti_RepairedNet_clean_predict = np.argmax(Anti_RepairedNet.predict(clean_test_data), axis = 1)\n",
        "BadNet_clean_predict = np.argmax(BadNet.predict(clean_test_data), axis = 1)"
      ],
      "metadata": {
        "id": "aEr1hH9yxHsV"
      },
      "execution_count": 15,
      "outputs": []
    },
    {
      "cell_type": "code",
      "source": [
        "# Goodnet clean classification accuracy performance is based on not equal condition \n",
        "model_predict = []\n",
        "clean_accuracy_count = 0\n",
        "for i in range(len(clean_test_label)):\n",
        "  if Anti_RepairedNet_clean_predict[i] != BadNet_clean_predict[i]:\n",
        "    model_predict.append(BadNet_clean_predict[i])\n",
        "  else:\n",
        "    model_predict.append(-1)      # A number different from existing labels\n",
        "  if model_predict[i] == clean_test_label[i]:\n",
        "    clean_accuracy_count += 1\n",
        "Clean_test_accuracy = (clean_accuracy_count/len(clean_test_label))*100\n",
        "print(clean_accuracy_count, Clean_test_accuracy)"
      ],
      "metadata": {
        "colab": {
          "base_uri": "https://localhost:8080/"
        },
        "id": "jiUXh6WUgIOA",
        "outputId": "51a84657-9e53-4150-93f6-220d2d06e5a1"
      },
      "execution_count": 16,
      "outputs": [
        {
          "output_type": "stream",
          "name": "stdout",
          "text": [
            "7185 56.00155884645363\n"
          ]
        }
      ]
    },
    {
      "cell_type": "code",
      "source": [
        "# Model predictions for poisioned input \n",
        "Anti_RepairedNet_poisioned_predict = np.argmax(Anti_RepairedNet.predict(poisioned_test_data), axis = 1)\n",
        "BadNet_poisioned_predict = np.argmax(BadNet.predict(poisioned_test_data), axis = 1)"
      ],
      "metadata": {
        "id": "lkxbCTdRgIVv"
      },
      "execution_count": 17,
      "outputs": []
    },
    {
      "cell_type": "code",
      "source": [
        "# GoodNet attack success rate performance is based on equal condition \n",
        "model_predict = []\n",
        "attack_success_count = 0\n",
        "for i in range(len(poisioned_test_label)):\n",
        "  if Anti_RepairedNet_poisioned_predict[i] == BadNet_poisioned_predict[i]:\n",
        "    model_predict.append(BadNet_poisioned_predict[i])\n",
        "  else:\n",
        "    model_predict.append(-1)      # A number different from existing labels\n",
        "  if model_predict[i] != poisioned_test_label[i]:\n",
        "    attack_success_count += 1\n",
        "Attack_success_rate = (attack_success_count/len(poisioned_test_label))*100\n",
        "print(attack_success_count, Attack_success_rate)"
      ],
      "metadata": {
        "colab": {
          "base_uri": "https://localhost:8080/"
        },
        "id": "2FBRJX4KgMUy",
        "outputId": "832efcff-715c-419e-d1d6-2ecd5503d55d"
      },
      "execution_count": 18,
      "outputs": [
        {
          "output_type": "stream",
          "name": "stdout",
          "text": [
            "929 9.051052221356198\n"
          ]
        }
      ]
    },
    {
      "cell_type": "code",
      "source": [
        "print('Clean test accuracy is:', Clean_test_accuracy)\n",
        "print('Attack success rate is:', Attack_success_rate)"
      ],
      "metadata": {
        "colab": {
          "base_uri": "https://localhost:8080/"
        },
        "id": "oRGF8-bpyFyy",
        "outputId": "9f4f9087-3b0b-4c59-e49e-df9ce36b58f5"
      },
      "execution_count": 19,
      "outputs": [
        {
          "output_type": "stream",
          "name": "stdout",
          "text": [
            "Clean test accuracy is: 56.00155884645363\n",
            "Attack success rate is: 9.051052221356198\n"
          ]
        }
      ]
    },
    {
      "cell_type": "markdown",
      "source": [
        "## Saving the Anti-RepairedNet and BadNet"
      ],
      "metadata": {
        "id": "GCLGQwcDDmUd"
      }
    },
    {
      "cell_type": "code",
      "source": [
        "Anti_RepairedNet.save('Anti_RepairedNet_Anonymous1_Model.h5')\n",
        "BadNet.save('BadNet_Anonymous1_Model.h5')"
      ],
      "metadata": {
        "id": "641tVTPcDlRK",
        "colab": {
          "base_uri": "https://localhost:8080/"
        },
        "outputId": "a644c942-3c5e-4f18-ad75-80367092fab4"
      },
      "execution_count": 20,
      "outputs": [
        {
          "output_type": "stream",
          "name": "stderr",
          "text": [
            "/usr/local/lib/python3.7/dist-packages/keras/engine/functional.py:1410: CustomMaskWarning: Custom mask layers require a config and must override get_config. When loading, the custom mask layer must be passed to the custom_objects argument.\n",
            "  layer_config = serialize_layer_fn(layer)\n"
          ]
        }
      ]
    }
  ]
}